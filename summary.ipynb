{
 "cells": [
  {
   "cell_type": "markdown",
   "id": "small-honduras",
   "metadata": {},
   "source": [
    "# DataFusionHack"
   ]
  },
  {
   "cell_type": "markdown",
   "id": "minus-layer",
   "metadata": {},
   "source": [
    "## Introduction"
   ]
  },
  {
   "cell_type": "markdown",
   "id": "hearing-error",
   "metadata": {},
   "source": [
    "Всем привет, в этом ноутбуке я покажу, как я решал первую задачу, в которой необходимо было классифицировать товары по данным из чека. Данные представляют собой набор размеченных и неразмеченных чеков. Каждый чек имеет такую информацию как описание товара, его категория, цена товара, количество и пр. Мы будем пользоваться только описанием товара (item_name) для предсказания его категории. Приятного ресёрча!"
   ]
  },
  {
   "cell_type": "code",
   "execution_count": 102,
   "id": "efficient-ambassador",
   "metadata": {},
   "outputs": [],
   "source": [
    "# путь до файла\n",
    "data_train_path = '../data_fusion_train.parquet'"
   ]
  },
  {
   "cell_type": "markdown",
   "id": "looking-flight",
   "metadata": {},
   "source": [
    "## Importing"
   ]
  },
  {
   "cell_type": "markdown",
   "id": "exact-cemetery",
   "metadata": {},
   "source": [
    "Сделаем все необходимые импорты"
   ]
  },
  {
   "cell_type": "code",
   "execution_count": 57,
   "id": "latest-chaos",
   "metadata": {},
   "outputs": [
    {
     "name": "stderr",
     "output_type": "stream",
     "text": [
      "[nltk_data] Downloading package stopwords to\n",
      "[nltk_data]     C:\\Users\\Rodion\\AppData\\Roaming\\nltk_data...\n",
      "[nltk_data]   Package stopwords is already up-to-date!\n"
     ]
    }
   ],
   "source": [
    "# Data Analysis\n",
    "import pandas as pd\n",
    "import numpy as np\n",
    "import scipy\n",
    "import matplotlib.pyplot as plt\n",
    "import seaborn as sns\n",
    "\n",
    "# Service tools\n",
    "from tqdm.notebook import tqdm, trange\n",
    "import logging, sys, os, pickle\n",
    "from pathlib import Path\n",
    "tqdm.pandas()\n",
    "logging.basicConfig(format='%(asctime)s : %(levelname)s : %(message)s', level=logging.INFO)\n",
    "\n",
    "# Work with text\n",
    "import re\n",
    "import nltk\n",
    "from nltk.corpus import stopwords\n",
    "import gensim\n",
    "from gensim.models import Word2Vec\n",
    "from gensim.models.fasttext import FastText \n",
    "from sklearn.feature_extraction.text import CountVectorizer, TfidfVectorizer\n",
    "nltk.download('stopwords')\n",
    "\n",
    "# Sklearn Pipelines & Preprocessing\n",
    "from sklearn.base import BaseEstimator, TransformerMixin\n",
    "from sklearn.pipeline import make_pipeline\n",
    "from sklearn.feature_extraction import DictVectorizer\n",
    "from sklearn.preprocessing import StandardScaler, LabelBinarizer\n",
    "from sklearn.decomposition import TruncatedSVD, PCA\n",
    "from sklearn.model_selection import *\n",
    "\n",
    "# Models & Metrics\n",
    "from sklearn.cluster import KMeans\n",
    "from sklearn.linear_model import RidgeClassifier, LogisticRegression\n",
    "from sklearn.neighbors import KNeighborsClassifier\n",
    "from sklearn.ensemble import RandomForestClassifier, ExtraTreesClassifier\n",
    "from sklearn.svm import LinearSVC, SVC\n",
    "from sklearn.naive_bayes import BernoulliNB, GaussianNB, MultinomialNB\n",
    "from xgboost import XGBClassifier\n",
    "from sklearn.metrics import f1_score, confusion_matrix, classification_report\n",
    "\n",
    "# метрика задачи\n",
    "def score(y_true, y_val):\n",
    "    return f1_score(y_true, y_val, average='weighted')\n",
    "\n",
    "# датафрейм, содержащий категорию n\n",
    "def samples(df, n):\n",
    "    return df[df.category_id == n]"
   ]
  },
  {
   "cell_type": "markdown",
   "id": "developmental-bookmark",
   "metadata": {},
   "source": [
    "## Reading data"
   ]
  },
  {
   "cell_type": "markdown",
   "id": "falling-harvest",
   "metadata": {},
   "source": [
    "Прочитаем данные и сохраним размеченную и неразмеченную части в разных файлах"
   ]
  },
  {
   "cell_type": "code",
   "execution_count": 30,
   "id": "inclusive-soldier",
   "metadata": {},
   "outputs": [
    {
     "name": "stderr",
     "output_type": "stream",
     "text": [
      "2021-03-22 12:19:11,722 : WARNING : To save RAM restart Notebook and then skip this cell\n"
     ]
    }
   ],
   "source": [
    "def read_save(read_path):\n",
    "    df = pd.read_parquet(read_path)[['item_name', 'category_id']]\n",
    "    df = df.drop_duplicates('item_name')\n",
    "    df[df.category_id == -1]['item_name'].to_csv('data/backup.csv', index=False)\n",
    "    df[df.category_id != -1].to_csv('data/backup_label.csv', index=False)\n",
    "    logging.warning('To save RAM restart Notebook and then skip this cell')\n",
    "\n",
    "df = read_save(data_train_path)"
   ]
  },
  {
   "cell_type": "markdown",
   "id": "miniature-zimbabwe",
   "metadata": {},
   "source": [
    "Теперь посмотрим на данные"
   ]
  },
  {
   "cell_type": "code",
   "execution_count": 37,
   "id": "exact-calibration",
   "metadata": {},
   "outputs": [],
   "source": [
    "df_full = pd.read_csv('data/backup.csv')\n",
    "df = pd.read_csv('data/backup_label.csv')\n",
    "\n",
    "df_full.dropna(inplace=True)\n",
    "df.dropna(inplace=True)"
   ]
  },
  {
   "cell_type": "code",
   "execution_count": 39,
   "id": "alleged-sierra",
   "metadata": {},
   "outputs": [
    {
     "data": {
      "text/html": [
       "<div>\n",
       "<style scoped>\n",
       "    .dataframe tbody tr th:only-of-type {\n",
       "        vertical-align: middle;\n",
       "    }\n",
       "\n",
       "    .dataframe tbody tr th {\n",
       "        vertical-align: top;\n",
       "    }\n",
       "\n",
       "    .dataframe thead th {\n",
       "        text-align: right;\n",
       "    }\n",
       "</style>\n",
       "<table border=\"1\" class=\"dataframe\">\n",
       "  <thead>\n",
       "    <tr style=\"text-align: right;\">\n",
       "      <th></th>\n",
       "      <th>item_name</th>\n",
       "    </tr>\n",
       "  </thead>\n",
       "  <tbody>\n",
       "    <tr>\n",
       "      <th>1226718</th>\n",
       "      <td>СТАКАН, 365 МЛ</td>\n",
       "    </tr>\n",
       "    <tr>\n",
       "      <th>1713779</th>\n",
       "      <td>Ромашка цветки ф/п 1,5г №20 /красногорск/</td>\n",
       "    </tr>\n",
       "    <tr>\n",
       "      <th>2815783</th>\n",
       "      <td>Пончики , 1уп</td>\n",
       "    </tr>\n",
       "    <tr>\n",
       "      <th>1550754</th>\n",
       "      <td>Лампа люм. Camelion BIO FT8-36W д/аквар.растений</td>\n",
       "    </tr>\n",
       "    <tr>\n",
       "      <th>924135</th>\n",
       "      <td>Хомут \"Стандарт\" 12-18 мм</td>\n",
       "    </tr>\n",
       "    <tr>\n",
       "      <th>526516</th>\n",
       "      <td>Бант-затяжка 5,0 см органза с блеском серебро ...</td>\n",
       "    </tr>\n",
       "    <tr>\n",
       "      <th>2994700</th>\n",
       "      <td>ДБ НК АПЕЛ ТП 0.33/24 шт</td>\n",
       "    </tr>\n",
       "    <tr>\n",
       "      <th>484014</th>\n",
       "      <td>Морковь по-корейски 1кг Космос ттк</td>\n",
       "    </tr>\n",
       "    <tr>\n",
       "      <th>1768006</th>\n",
       "      <td>Ветчина Арбатская п/а вес Серышево</td>\n",
       "    </tr>\n",
       "    <tr>\n",
       "      <th>1992224</th>\n",
       "      <td>гайка DIN 934 М 8 шестигр.(35</td>\n",
       "    </tr>\n",
       "  </tbody>\n",
       "</table>\n",
       "</div>"
      ],
      "text/plain": [
       "                                                 item_name\n",
       "1226718                                     СТАКАН, 365 МЛ\n",
       "1713779          Ромашка цветки ф/п 1,5г №20 /красногорск/\n",
       "2815783                                      Пончики , 1уп\n",
       "1550754   Лампа люм. Camelion BIO FT8-36W д/аквар.растений\n",
       "924135                           Хомут \"Стандарт\" 12-18 мм\n",
       "526516   Бант-затяжка 5,0 см органза с блеском серебро ...\n",
       "2994700                           ДБ НК АПЕЛ ТП 0.33/24 шт\n",
       "484014                  Морковь по-корейски 1кг Космос ттк\n",
       "1768006                 Ветчина Арбатская п/а вес Серышево\n",
       "1992224                      гайка DIN 934 М 8 шестигр.(35"
      ]
     },
     "execution_count": 39,
     "metadata": {},
     "output_type": "execute_result"
    }
   ],
   "source": [
    "df_full.sample(10)"
   ]
  },
  {
   "cell_type": "markdown",
   "id": "aggregate-interview",
   "metadata": {},
   "source": [
    "Посмотрим распределение классов"
   ]
  },
  {
   "cell_type": "code",
   "execution_count": 42,
   "id": "published-payday",
   "metadata": {},
   "outputs": [
    {
     "data": {
      "text/plain": [
       "84     7070\n",
       "71     4760\n",
       "78     2866\n",
       "83     2856\n",
       "0      2352\n",
       "       ... \n",
       "102      19\n",
       "101      16\n",
       "46       15\n",
       "100      14\n",
       "97       13\n",
       "Name: category_id, Length: 96, dtype: int64"
      ]
     },
     "execution_count": 42,
     "metadata": {},
     "output_type": "execute_result"
    }
   ],
   "source": [
    "df.category_id.value_counts()"
   ]
  },
  {
   "cell_type": "code",
   "execution_count": 52,
   "id": "perceived-board",
   "metadata": {},
   "outputs": [
    {
     "data": {
      "image/png": "[encoded data removed]",
      "text/plain": [
       "<Figure size 1440x288 with 1 Axes>"
      ]
     },
     "metadata": {
      "needs_background": "light"
     },
     "output_type": "display_data"
    }
   ],
   "source": [
    "df.category_id.value_counts().plot.bar(figsize=(20, 4))\n",
    "plt.title('Распределение по классам');"
   ]
  },
  {
   "cell_type": "markdown",
   "id": "convertible-craft",
   "metadata": {},
   "source": [
    "Посмотрим самые частые категории"
   ]
  },
  {
   "cell_type": "code",
   "execution_count": 59,
   "id": "loved-acrylic",
   "metadata": {},
   "outputs": [
    {
     "data": {
      "text/html": [
       "<div>\n",
       "<style scoped>\n",
       "    .dataframe tbody tr th:only-of-type {\n",
       "        vertical-align: middle;\n",
       "    }\n",
       "\n",
       "    .dataframe tbody tr th {\n",
       "        vertical-align: top;\n",
       "    }\n",
       "\n",
       "    .dataframe thead th {\n",
       "        text-align: right;\n",
       "    }\n",
       "</style>\n",
       "<table border=\"1\" class=\"dataframe\">\n",
       "  <thead>\n",
       "    <tr style=\"text-align: right;\">\n",
       "      <th></th>\n",
       "      <th>item_name</th>\n",
       "      <th>category_id</th>\n",
       "    </tr>\n",
       "  </thead>\n",
       "  <tbody>\n",
       "    <tr>\n",
       "      <th>4</th>\n",
       "      <td>Хлеб на СЫВОРОТКЕ 350г</td>\n",
       "      <td>84</td>\n",
       "    </tr>\n",
       "    <tr>\n",
       "      <th>5</th>\n",
       "      <td>Сосиска в тесте с сыром 1шт ГЕ</td>\n",
       "      <td>84</td>\n",
       "    </tr>\n",
       "    <tr>\n",
       "      <th>13</th>\n",
       "      <td>Курник 1 шт.</td>\n",
       "      <td>84</td>\n",
       "    </tr>\n",
       "    <tr>\n",
       "      <th>19</th>\n",
       "      <td>Вафли с топленым молоком вес. 1кг Тортугалия</td>\n",
       "      <td>84</td>\n",
       "    </tr>\n",
       "    <tr>\n",
       "      <th>28</th>\n",
       "      <td>Кф.Золотой Степ 50г с орехом</td>\n",
       "      <td>84</td>\n",
       "    </tr>\n",
       "  </tbody>\n",
       "</table>\n",
       "</div>"
      ],
      "text/plain": [
       "                                       item_name  category_id\n",
       "4                         Хлеб на СЫВОРОТКЕ 350г           84\n",
       "5                 Сосиска в тесте с сыром 1шт ГЕ           84\n",
       "13                                  Курник 1 шт.           84\n",
       "19  Вафли с топленым молоком вес. 1кг Тортугалия           84\n",
       "28                  Кф.Золотой Степ 50г с орехом           84"
      ]
     },
     "execution_count": 59,
     "metadata": {},
     "output_type": "execute_result"
    }
   ],
   "source": [
    "samples(df, 84).head()"
   ]
  },
  {
   "cell_type": "code",
   "execution_count": 60,
   "id": "norwegian-reconstruction",
   "metadata": {},
   "outputs": [
    {
     "data": {
      "text/html": [
       "<div>\n",
       "<style scoped>\n",
       "    .dataframe tbody tr th:only-of-type {\n",
       "        vertical-align: middle;\n",
       "    }\n",
       "\n",
       "    .dataframe tbody tr th {\n",
       "        vertical-align: top;\n",
       "    }\n",
       "\n",
       "    .dataframe thead th {\n",
       "        text-align: right;\n",
       "    }\n",
       "</style>\n",
       "<table border=\"1\" class=\"dataframe\">\n",
       "  <thead>\n",
       "    <tr style=\"text-align: right;\">\n",
       "      <th></th>\n",
       "      <th>item_name</th>\n",
       "      <th>category_id</th>\n",
       "    </tr>\n",
       "  </thead>\n",
       "  <tbody>\n",
       "    <tr>\n",
       "      <th>1</th>\n",
       "      <td>Компот из изюма, 114 ккал</td>\n",
       "      <td>71</td>\n",
       "    </tr>\n",
       "    <tr>\n",
       "      <th>2</th>\n",
       "      <td>Макаронные изделия отварные (масло сливочное),...</td>\n",
       "      <td>71</td>\n",
       "    </tr>\n",
       "    <tr>\n",
       "      <th>15</th>\n",
       "      <td>Филе бедра куриного жареное 3</td>\n",
       "      <td>71</td>\n",
       "    </tr>\n",
       "    <tr>\n",
       "      <th>30</th>\n",
       "      <td>МОРС 200  мл</td>\n",
       "      <td>71</td>\n",
       "    </tr>\n",
       "    <tr>\n",
       "      <th>41</th>\n",
       "      <td>Kотлета Kуриная Домашняя 100 г</td>\n",
       "      <td>71</td>\n",
       "    </tr>\n",
       "  </tbody>\n",
       "</table>\n",
       "</div>"
      ],
      "text/plain": [
       "                                            item_name  category_id\n",
       "1                           Компот из изюма, 114 ккал           71\n",
       "2   Макаронные изделия отварные (масло сливочное),...           71\n",
       "15                      Филе бедра куриного жареное 3           71\n",
       "30                                       МОРС 200  мл           71\n",
       "41                     Kотлета Kуриная Домашняя 100 г           71"
      ]
     },
     "execution_count": 60,
     "metadata": {},
     "output_type": "execute_result"
    }
   ],
   "source": [
    "samples(df, 71).head()"
   ]
  },
  {
   "cell_type": "markdown",
   "id": "domestic-greece",
   "metadata": {},
   "source": [
    "## Preprocessing"
   ]
  },
  {
   "cell_type": "markdown",
   "id": "convinced-subsection",
   "metadata": {},
   "source": [
    "Препроцессинг включает следующие шаги:\n",
    "* CamelCase сплиттинг: \"СокДобрый\" -> \"Сок Добрый\"\n",
    "* Нижний регистр\n",
    "* Транслитерация: \"lmnoё\" -> \"лмное\"\n",
    "* 50x30x45 -> DxDxD\n",
    "* [\"№\", \"%\"] -> ['NUM', 'PERC']\n",
    "* Замены величин: [\"1.5\", \"1,3 кг\" 3,5г -> [\"1p5\", \"1p3кг\" \"3p5г\"]\n",
    "* сокращения со слешами заменяются: [\"ж/б\", \"тп/р]->[\"жб\", тпр\"]\n",
    "* Не буквы и цифры заменяются на пробелы\n",
    "* Склейка одиночных символов: \"а б в\" -> \"абв\""
   ]
  },
  {
   "cell_type": "code",
   "execution_count": 54,
   "id": "interested-english",
   "metadata": {},
   "outputs": [],
   "source": [
    "# функция для создания словаря транслитераций\n",
    "def make_trans():\n",
    "    a = 'a b c d e f g h i j k l m n o p q r s t u v w x y z ё'.split()\n",
    "    b = 'а в с д е ф г н и ж к л м н о р к р с т у в в х у з е'.split()\n",
    "    trans_dict = dict(zip(a, b))\n",
    "    trans_table = ''.join(a).maketrans(trans_dict)\n",
    "    return trans_table\n",
    "\n",
    "def normalize(ser: pd.Series):\n",
    "#   \"СокДобрый\" -> \"Сок Добрый\"\n",
    "    camel_case_pat = re.compile(r'([а-яa-z])([А-ЯA-Z])')\n",
    "#   \"lmno\" -> \"лмно\"\n",
    "    trans_table = make_trans()\n",
    "#   \"14х15х30\" -> \"DxDxD\"\n",
    "    dxdxd_pat = re.compile(r'((?:\\d+\\s*[х\\*]\\s*){2}\\d+)')\n",
    "#   \"1.2 15,5\" -> \"1p2 15p5\"  \n",
    "    digit_pat = re.compile(r'(\\d+)[\\.,](\\d+)')\n",
    "#   \"15 мл\" -> \"15мл\"\n",
    "    unit = 'мг|г|гр|кг|мл|л|шт'\n",
    "    unit_pat = re.compile(fr'((?:\\d+p)?\\d+)\\s*({unit})\\b')\n",
    "#   \"ж/б ст/б\" -> \"жб стб\"\n",
    "    w_w_pat = re.compile(r'\\b([а-я]{1,2})/([а-я]{1,2})\\b')\n",
    "#   \"a b c d\" -> \"abcd\"\n",
    "    glue_pat = re.compile(r'(?<=(?<!\\w)\\w) (?=\\w(?!\\w))', re.UNICODE)\n",
    "    \n",
    "    return ser \\\n",
    "            .str.replace(camel_case_pat, r'\\1 \\2') \\\n",
    "            .str.lower() \\\n",
    "            .str.replace(r'ъ\\b', '') \\\n",
    "            .str.translate(trans_table) \\\n",
    "            .str.replace(dxdxd_pat, ' DxDxD ') \\\n",
    "            .str.replace('№', ' NUM ') \\\n",
    "            .str.replace('%', ' PERC ') \\\n",
    "            .str.replace(digit_pat, r' \\1p\\2 ') \\\n",
    "            .str.replace(unit_pat, r' \\1\\2 ') \\\n",
    "            .str.replace(w_w_pat, r' \\1\\2 ') \\\n",
    "            .str.replace(r'[\\W_]', ' ') \\\n",
    "            .str.replace(glue_pat, '')"
   ]
  },
  {
   "cell_type": "code",
   "execution_count": null,
   "id": "smoking-organ",
   "metadata": {},
   "outputs": [],
   "source": [
    "df_full.item_name = normalize(df_full.item_name)\n",
    "df.item_name = normalize(df.item_name)"
   ]
  },
  {
   "cell_type": "markdown",
   "id": "protected-spelling",
   "metadata": {},
   "source": [
    "Посмотрим на результат"
   ]
  },
  {
   "cell_type": "code",
   "execution_count": 61,
   "id": "eleven-cancer",
   "metadata": {},
   "outputs": [
    {
     "data": {
      "text/html": [
       "<div>\n",
       "<style scoped>\n",
       "    .dataframe tbody tr th:only-of-type {\n",
       "        vertical-align: middle;\n",
       "    }\n",
       "\n",
       "    .dataframe tbody tr th {\n",
       "        vertical-align: top;\n",
       "    }\n",
       "\n",
       "    .dataframe thead th {\n",
       "        text-align: right;\n",
       "    }\n",
       "</style>\n",
       "<table border=\"1\" class=\"dataframe\">\n",
       "  <thead>\n",
       "    <tr style=\"text-align: right;\">\n",
       "      <th></th>\n",
       "      <th>item_name</th>\n",
       "    </tr>\n",
       "  </thead>\n",
       "  <tbody>\n",
       "    <tr>\n",
       "      <th>1881098</th>\n",
       "      <td>натуральная формула  суфле с ягненком  дк  ла...</td>\n",
       "    </tr>\n",
       "    <tr>\n",
       "      <th>2526426</th>\n",
       "      <td>80г  сухар бейк роллз 7даус чес</td>\n",
       "    </tr>\n",
       "    <tr>\n",
       "      <th>1945283</th>\n",
       "      <td>фиточай  для мужчин   100гр</td>\n",
       "    </tr>\n",
       "    <tr>\n",
       "      <th>1539480</th>\n",
       "      <td>бзмж мороженое 48 копеек</td>\n",
       "    </tr>\n",
       "    <tr>\n",
       "      <th>1972603</th>\n",
       "      <td>бургер с говядиной и овощами гриль</td>\n",
       "    </tr>\n",
       "    <tr>\n",
       "      <th>743516</th>\n",
       "      <td>4  сандалии сказк р6236</td>\n",
       "    </tr>\n",
       "    <tr>\n",
       "      <th>2469578</th>\n",
       "      <td>часы детские по 200</td>\n",
       "    </tr>\n",
       "    <tr>\n",
       "      <th>1192636</th>\n",
       "      <td>с ростбифом салат</td>\n",
       "    </tr>\n",
       "    <tr>\n",
       "      <th>2390714</th>\n",
       "      <td>картон а4   8цв  16л  унника ланд  папка мело...</td>\n",
       "    </tr>\n",
       "    <tr>\n",
       "      <th>205983</th>\n",
       "      <td>котлета из кур грудки  75гр</td>\n",
       "    </tr>\n",
       "  </tbody>\n",
       "</table>\n",
       "</div>"
      ],
      "text/plain": [
       "                                                 item_name\n",
       "1881098   натуральная формула  суфле с ягненком  дк  ла...\n",
       "2526426                    80г  сухар бейк роллз 7даус чес\n",
       "1945283                       фиточай  для мужчин   100гр \n",
       "1539480                         бзмж мороженое 48 копеек  \n",
       "1972603                 бургер с говядиной и овощами гриль\n",
       "743516                             4  сандалии сказк р6236\n",
       "2469578                                часы детские по 200\n",
       "1192636                                 с ростбифом салат \n",
       "2390714   картон а4   8цв  16л  унника ланд  папка мело...\n",
       "205983                       котлета из кур грудки  75гр  "
      ]
     },
     "execution_count": 61,
     "metadata": {},
     "output_type": "execute_result"
    }
   ],
   "source": [
    "df_full.sample(10)"
   ]
  },
  {
   "cell_type": "markdown",
   "id": "legal-disco",
   "metadata": {},
   "source": [
    "## Fasttext"
   ]
  },
  {
   "cell_type": "markdown",
   "id": "bridal-bonus",
   "metadata": {},
   "source": [
    "### Fitting"
   ]
  },
  {
   "cell_type": "markdown",
   "id": "solved-contemporary",
   "metadata": {},
   "source": [
    "Для извлечения фичей воспользуемся FastText. Изначально на его месте был Word2Vec, но позже благодаря [@dremovd](https://github.com/dremovd) осознал, что FastText справится здесь лучше. \n",
    "\n",
    "Обучать будем на всех неразмеченных данных, чтобы не было лишних утечек. Для начала сделаем сплиттинг строки на список слов, избавившися от однобуквенных слов"
   ]
  },
  {
   "cell_type": "code",
   "execution_count": 62,
   "id": "polished-korean",
   "metadata": {},
   "outputs": [],
   "source": [
    "df_full.item_name = df_full.item_name.apply(lambda x: [i for i in x.split() if len(i) > 1])"
   ]
  },
  {
   "cell_type": "markdown",
   "id": "binding-symphony",
   "metadata": {},
   "source": [
    "Метод построения векторов (sg), размер вектора (size) и минимальное количество слов в словаре (min_count) были подобраны эмпирическим путём. Стоит отметить, что sg=1 или Skip-Grams mode, когда fasttext (а изначально word2vec) пытается предсказать по слову остальной контент, работает значительно лучше, чем sg=0 или CBOW mode. В качестве аргумента window я поставил максимальную длину списка в корпусе. Для демонстрации я поставил количество эпох (iter) равным 5, хотя оптимальным является 30. Такой bucket выставил для экономии памяти на жёстком диске (и чтобы вместился в сабмит)). Последний параметр workers - это допустимое количество потоков, у меня это число 12. Из-за него кстати нет смысла выставлять seed, так как всё сбивается и воспроизвести решение можно только с workers=1 и seed=КАКОЕ-ТО_ЧИСЛО (конкретно в этой реализации от gensim)."
   ]
  },
  {
   "cell_type": "code",
   "execution_count": null,
   "id": "muslim-privacy",
   "metadata": {},
   "outputs": [],
   "source": [
    "model = FastText(df_full.item_name, size=200, window=35, min_count=3, workers=12, iter=5, sg=1, bucket=400_000)"
   ]
  },
  {
   "cell_type": "markdown",
   "id": "medieval-reset",
   "metadata": {},
   "source": [
    "Сохраним модель"
   ]
  },
  {
   "cell_type": "code",
   "execution_count": 67,
   "id": "sudden-tennis",
   "metadata": {},
   "outputs": [
    {
     "name": "stderr",
     "output_type": "stream",
     "text": [
      "2021-03-22 12:43:55,686 : INFO : saving FastText object under ft.model, separately None\n",
      "2021-03-22 12:43:55,687 : INFO : storing np array 'vectors' to ft.model.wv.vectors.npy\n",
      "2021-03-22 12:43:56,649 : INFO : storing np array 'vectors_vocab' to ft.model.wv.vectors_vocab.npy\n",
      "2021-03-22 12:43:57,771 : INFO : storing np array 'vectors_ngrams' to ft.model.wv.vectors_ngrams.npy\n",
      "2021-03-22 12:43:59,692 : INFO : not storing attribute vectors_norm\n",
      "2021-03-22 12:43:59,692 : INFO : not storing attribute vectors_vocab_norm\n",
      "2021-03-22 12:43:59,693 : INFO : not storing attribute vectors_ngrams_norm\n",
      "2021-03-22 12:43:59,694 : INFO : not storing attribute buckets_word\n",
      "2021-03-22 12:43:59,694 : INFO : storing np array 'syn1neg' to ft.model.trainables.syn1neg.npy\n",
      "2021-03-22 12:44:00,539 : INFO : storing np array 'vectors_vocab_lockf' to ft.model.trainables.vectors_vocab_lockf.npy\n",
      "2021-03-22 12:44:01,586 : INFO : storing np array 'vectors_ngrams_lockf' to ft.model.trainables.vectors_ngrams_lockf.npy\n",
      "2021-03-22 12:44:03,706 : INFO : saved ft.model\n"
     ]
    }
   ],
   "source": [
    "model.save('ft.model')"
   ]
  },
  {
   "cell_type": "markdown",
   "id": "champion-potential",
   "metadata": {},
   "source": [
    "### Model optimization"
   ]
  },
  {
   "cell_type": "markdown",
   "id": "tropical-american",
   "metadata": {},
   "source": [
    "Больше всего в fasttext отнимается памяти из-за ngram, на данный момент модель занимает 1Гб (!) на жёстком диске. С этим надо было как-то бороться и первое что пришло в голову: заменить float32, в котором хранятся вектора на float16. Это сожмёт нашу модель как минимум в 2 раза. Можете убедиться: это не повлияет на последующее обучение классификатора"
   ]
  },
  {
   "cell_type": "markdown",
   "id": "swiss-calvin",
   "metadata": {},
   "source": [
    "Посмотрим на файлы, относящиеся к FastText"
   ]
  },
  {
   "cell_type": "code",
   "execution_count": 69,
   "id": "subject-integrity",
   "metadata": {},
   "outputs": [
    {
     "data": {
      "text/plain": [
       "['ft.model.trainables.syn1neg.npy',\n",
       " 'ft.model.trainables.vectors_ngrams_lockf.npy',\n",
       " 'ft.model.trainables.vectors_vocab_lockf.npy',\n",
       " 'ft.model.wv.vectors.npy',\n",
       " 'ft.model.wv.vectors_ngrams.npy',\n",
       " 'ft.model.wv.vectors_vocab.npy']"
      ]
     },
     "execution_count": 69,
     "metadata": {},
     "output_type": "execute_result"
    }
   ],
   "source": [
    "list(map(str,Path('.').glob('*.npy')))"
   ]
  },
  {
   "cell_type": "code",
   "execution_count": 75,
   "id": "brave-arthur",
   "metadata": {},
   "outputs": [
    {
     "name": "stderr",
     "output_type": "stream",
     "text": [
      "2021-03-22 12:48:00,783 : INFO : ft.model.trainables.syn1neg.npy\n",
      "2021-03-22 12:48:00,850 : INFO : min/max values before: (-1.8006533, 1.9198064)\n",
      "2021-03-22 12:48:01,347 : INFO : min/max values after: (-1.801, 1.92)\n",
      "2021-03-22 12:48:01,639 : INFO : __________________________________\n",
      "2021-03-22 12:48:01,640 : INFO : ft.model.trainables.vectors_ngrams_lockf.npy\n",
      "2021-03-22 12:48:01,815 : INFO : min/max values before: (1.0, 1.0)\n",
      "2021-03-22 12:48:02,657 : INFO : min/max values after: (1.0, 1.0)\n",
      "2021-03-22 12:48:03,595 : INFO : __________________________________\n",
      "2021-03-22 12:48:03,596 : INFO : ft.model.trainables.vectors_vocab_lockf.npy\n",
      "2021-03-22 12:48:03,681 : INFO : min/max values before: (1.0, 1.0)\n",
      "2021-03-22 12:48:04,017 : INFO : min/max values after: (1.0, 1.0)\n",
      "2021-03-22 12:48:04,310 : INFO : __________________________________\n",
      "2021-03-22 12:48:04,311 : INFO : ft.model.wv.vectors.npy\n",
      "2021-03-22 12:48:04,387 : INFO : min/max values before: (-2.5191677, 2.275862)\n",
      "2021-03-22 12:48:04,886 : INFO : min/max values after: (-2.52, 2.275)\n",
      "2021-03-22 12:48:05,178 : INFO : __________________________________\n",
      "2021-03-22 12:48:05,179 : INFO : ft.model.wv.vectors_ngrams.npy\n",
      "2021-03-22 12:48:05,356 : INFO : min/max values before: (-9.58643, 7.41862)\n",
      "2021-03-22 12:48:06,626 : INFO : min/max values after: (-9.586, 7.418)\n",
      "2021-03-22 12:48:07,529 : INFO : __________________________________\n",
      "2021-03-22 12:48:07,530 : INFO : ft.model.wv.vectors_vocab.npy\n",
      "2021-03-22 12:48:07,614 : INFO : min/max values before: (-8.553366, 8.7294035)\n",
      "2021-03-22 12:48:08,111 : INFO : min/max values after: (-8.555, 8.73)\n",
      "2021-03-22 12:48:08,680 : INFO : __________________________________\n"
     ]
    }
   ],
   "source": [
    "for file in map(str,Path('.').glob('*.npy')):\n",
    "    logging.info(file)\n",
    "    spam = np.load(file)\n",
    "    logging.info(f'min/max values before: {spam.min(), spam.max()}')\n",
    "    spam = spam.astype('float16')\n",
    "    logging.info(f'min/max values after: {spam.min(), spam.max()}')\n",
    "    with open(file, 'wb') as f:\n",
    "        np.save(f, spam)\n",
    "    logging.info('__________________________________')"
   ]
  },
  {
   "cell_type": "markdown",
   "id": "sacred-harvest",
   "metadata": {},
   "source": [
    "После этих манипуляций файлы занимают 500Мб. Но этого всё-равно недостаточно: надо будет как-то уместить классификатор\n",
    "\n",
    "Видим, что у нас есть файлы целиком состоящие из единичек (минимальное и максимальное значения - это единицы). Взглянем на них разок"
   ]
  },
  {
   "cell_type": "code",
   "execution_count": 76,
   "id": "adjacent-indie",
   "metadata": {},
   "outputs": [],
   "source": [
    "spam = np.load('ft.model.trainables.vectors_ngrams_lockf.npy')"
   ]
  },
  {
   "cell_type": "code",
   "execution_count": 79,
   "id": "resident-designer",
   "metadata": {},
   "outputs": [
    {
     "data": {
      "text/plain": [
       "array([[1., 1., 1., ..., 1., 1., 1.],\n",
       "       [1., 1., 1., ..., 1., 1., 1.],\n",
       "       [1., 1., 1., ..., 1., 1., 1.],\n",
       "       ...,\n",
       "       [1., 1., 1., ..., 1., 1., 1.],\n",
       "       [1., 1., 1., ..., 1., 1., 1.],\n",
       "       [1., 1., 1., ..., 1., 1., 1.]], dtype=float16)"
      ]
     },
     "execution_count": 79,
     "metadata": {},
     "output_type": "execute_result"
    }
   ],
   "source": [
    "spam"
   ]
  },
  {
   "cell_type": "code",
   "execution_count": 78,
   "id": "organic-yukon",
   "metadata": {},
   "outputs": [
    {
     "data": {
      "text/plain": [
       "(400000, 200)"
      ]
     },
     "execution_count": 78,
     "metadata": {},
     "output_type": "execute_result"
    }
   ],
   "source": [
    "spam.shape"
   ]
  },
  {
   "cell_type": "markdown",
   "id": "earned-court",
   "metadata": {},
   "source": [
    "Ого, вы видели, сколько эта вещь занимает в памяти?! К счастью, архиваторы умеют грамотно сжимать такие файлы из повторяющихся элементов, так что можем быть уверены, что в итоге у нас останется памяти для классификатора"
   ]
  },
  {
   "cell_type": "markdown",
   "id": "japanese-sleep",
   "metadata": {},
   "source": [
    "### Vector averaging"
   ]
  },
  {
   "cell_type": "markdown",
   "id": "norwegian-jumping",
   "metadata": {},
   "source": [
    "Для усреднения векторов получим вектора каждого слова из предложения, сложим их и отнормируем его, чтобы его размер был равен 1. "
   ]
  },
  {
   "cell_type": "code",
   "execution_count": null,
   "id": "latest-binary",
   "metadata": {},
   "outputs": [],
   "source": [
    "model = FastText.load('ft.model')"
   ]
  },
  {
   "cell_type": "code",
   "execution_count": 95,
   "id": "military-center",
   "metadata": {},
   "outputs": [],
   "source": [
    "def word_averaging(wv, words):\n",
    "    mean = np.zeros((wv.vector_size,))\n",
    "    \n",
    "    for word in words:\n",
    "        mean += wv.get_vector(word)\n",
    "\n",
    "    mean = gensim.matutils.unitvec(mean)\n",
    "    return mean\n",
    "\n",
    "def word_averaging_list(wv, text_list):\n",
    "    return np.vstack([word_averaging(wv, review) for review in text_list])"
   ]
  },
  {
   "cell_type": "code",
   "execution_count": 96,
   "id": "seeing-westminster",
   "metadata": {},
   "outputs": [],
   "source": [
    "X_wv = word_averaging_list(model.wv, df.item_name)\n",
    "y = df.category_id"
   ]
  },
  {
   "cell_type": "markdown",
   "id": "quality-lingerie",
   "metadata": {},
   "source": [
    "Огромный плюс fasttext'а в том, что он может векторизовать слова, даже которых нет в словаре, благодаря ngram'ам"
   ]
  },
  {
   "cell_type": "markdown",
   "id": "welcome-scott",
   "metadata": {},
   "source": [
    "## Classification"
   ]
  },
  {
   "cell_type": "markdown",
   "id": "timely-mistake",
   "metadata": {},
   "source": [
    "Наконец-то перейдём к классификации. Будем использовать модель SVM для классификации. Она показала здесь лучшее качество. Также не забудем отнормировать данные перед подачей в классификатор: сделаем пайплайн"
   ]
  },
  {
   "cell_type": "code",
   "execution_count": 98,
   "id": "dated-dividend",
   "metadata": {},
   "outputs": [],
   "source": [
    "pipe = make_pipeline(\n",
    "    StandardScaler(),\n",
    "    SVC(random_state=0),\n",
    ")"
   ]
  },
  {
   "cell_type": "code",
   "execution_count": 101,
   "id": "aware-making",
   "metadata": {},
   "outputs": [
    {
     "name": "stdout",
     "output_type": "stream",
     "text": [
      "Wall time: 12min 13s\n"
     ]
    },
    {
     "data": {
      "text/plain": [
       "array([0.32781732, 0.32494504, 0.32731793, 0.32364284, 0.32262999])"
      ]
     },
     "execution_count": 101,
     "metadata": {},
     "output_type": "execute_result"
    }
   ],
   "source": [
    "%%time\n",
    "cross_val_score(pipe, \n",
    "                X_wv, \n",
    "                y, \n",
    "                scoring='f1_weighted',\n",
    "                cv=StratifiedKFold(5, \n",
    "                                   shuffle=True, \n",
    "                                   random_state=0), \n",
    "                n_jobs=5\n",
    ")"
   ]
  },
  {
   "cell_type": "markdown",
   "id": "interested-decrease",
   "metadata": {},
   "source": [
    "Итак, получили неплохое качество на крос-валидации. На тесте данное решение получило 0.865"
   ]
  },
  {
   "cell_type": "markdown",
   "id": "advised-corporation",
   "metadata": {},
   "source": [
    "## Conclusion"
   ]
  },
  {
   "cell_type": "markdown",
   "id": "employed-tragedy",
   "metadata": {},
   "source": [
    "Спасибо за ресёрч данного ноутбука, в нём я привёл краткое решение задачи. Ждите более расширенного решения с анализом ошибок, стакингом и постпроцессингом :) \n",
    "\n",
    "Особую благодарность хотелось бы выразить [@dremovd](https://github.com/dremovd), с которым мы были с ним в одной команде. Он направлял меня в нужную сторону, и без него мы бы не вышли в топ-10. До новых встреч!"
   ]
  },
  {
   "cell_type": "code",
   "execution_count": null,
   "id": "polar-barrel",
   "metadata": {},
   "outputs": [],
   "source": []
  }
 ],
 "metadata": {
  "kernelspec": {
   "display_name": "Python 3",
   "language": "python",
   "name": "python3"
  },
  "language_info": {
   "codemirror_mode": {
    "name": "ipython",
    "version": 3
   },
   "file_extension": ".py",
   "mimetype": "text/x-python",
   "name": "python",
   "nbconvert_exporter": "python",
   "pygments_lexer": "ipython3",
   "version": "3.9.1"
  }
 },
 "nbformat": 4,
 "nbformat_minor": 5
}
