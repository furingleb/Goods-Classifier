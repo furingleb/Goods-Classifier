{
 "cells": [
  {
   "cell_type": "markdown",
   "id": "downtown-logic",
   "metadata": {},
   "source": [
    "# DataFusionHack"
   ]
  },
  {
   "cell_type": "markdown",
   "id": "spatial-spring",
   "metadata": {},
   "source": [
    "## Introduction"
   ]
  },
  {
   "cell_type": "markdown",
   "id": "loved-serbia",
   "metadata": {},
   "source": [
    "Всем привет, в этом ноутбуке я покажу, как я решал первую задачу, в которой необходимо было классифицировать товары по данным из чека. Данные представляют собой набор размеченных и неразмеченных чеков. Каждый чек имеет такую информацию как описание товара, его категорию, цена товара, количество и пр. Для предсказания категории мы будем пользоваться только описанием товара (item_name). Приятного ресёрча!"
   ]
  },
  {
   "cell_type": "code",
   "execution_count": 1,
   "id": "sharing-equity",
   "metadata": {},
   "outputs": [],
   "source": [
    "# путь до файла\n",
    "data_train_path = '../data_fusion_train.parquet'"
   ]
  },
  {
   "cell_type": "markdown",
   "id": "impressive-prescription",
   "metadata": {},
   "source": [
    "## Importing"
   ]
  },
  {
   "cell_type": "markdown",
   "id": "civic-likelihood",
   "metadata": {},
   "source": [
    "Сделаем все необходимые импорты"
   ]
  },
  {
   "cell_type": "code",
   "execution_count": null,
   "id": "suburban-marker",
   "metadata": {},
   "outputs": [],
   "source": [
    "!pip install numpy==1.18.5\n",
    "!pip install pandas==1.1.5\n",
    "!pip install scikit-learn==0.23.2\n",
    "!pip install gensim==3.8.3\n",
    "!pip install xgboost==1.2.1\n",
    "!pip install nltk==3.2.4"
   ]
  },
  {
   "cell_type": "code",
   "execution_count": 2,
   "id": "major-lebanon",
   "metadata": {},
   "outputs": [
    {
     "name": "stderr",
     "output_type": "stream",
     "text": [
      "c:\\users\\rodion\\appdata\\local\\programs\\python\\python39\\lib\\site-packages\\tqdm\\std.py:702: FutureWarning: The Panel class is removed from pandas. Accessing it from the top-level namespace will also be removed in the next version\n",
      "  from pandas import Panel\n"
     ]
    },
    {
     "name": "stdout",
     "output_type": "stream",
     "text": [
      "[nltk_data] Downloading package stopwords to\n",
      "[nltk_data]     C:\\Users\\Rodion\\AppData\\Roaming\\nltk_data...\n",
      "[nltk_data]   Package stopwords is already up-to-date!\n"
     ]
    }
   ],
   "source": [
    "# Data Analysis\n",
    "import pandas as pd\n",
    "import numpy as np\n",
    "import scipy\n",
    "import matplotlib.pyplot as plt\n",
    "import seaborn as sns\n",
    "\n",
    "# Service tools\n",
    "from tqdm.notebook import tqdm, trange\n",
    "import logging, sys, os, pickle\n",
    "from pathlib import Path\n",
    "tqdm.pandas()\n",
    "logging.basicConfig(format='%(asctime)s : %(levelname)s : %(message)s', level=logging.INFO)\n",
    "\n",
    "# Work with text\n",
    "import re\n",
    "import nltk\n",
    "from nltk.corpus import stopwords\n",
    "import gensim\n",
    "from gensim.models import Word2Vec\n",
    "from gensim.models.fasttext import FastText \n",
    "from sklearn.feature_extraction.text import CountVectorizer, TfidfVectorizer\n",
    "nltk.download('stopwords')\n",
    "\n",
    "# Sklearn Pipelines & Preprocessing\n",
    "from sklearn.base import BaseEstimator, TransformerMixin\n",
    "from sklearn.pipeline import make_pipeline\n",
    "from sklearn.feature_extraction import DictVectorizer\n",
    "from sklearn.preprocessing import StandardScaler, LabelBinarizer\n",
    "from sklearn.decomposition import TruncatedSVD, PCA\n",
    "from sklearn.model_selection import *\n",
    "\n",
    "# Models & Metrics\n",
    "from sklearn.cluster import KMeans\n",
    "from sklearn.linear_model import RidgeClassifier, LogisticRegression\n",
    "from sklearn.neighbors import KNeighborsClassifier\n",
    "from sklearn.ensemble import RandomForestClassifier, ExtraTreesClassifier\n",
    "from sklearn.svm import LinearSVC, SVC\n",
    "from sklearn.naive_bayes import BernoulliNB, GaussianNB, MultinomialNB\n",
    "from xgboost import XGBClassifier\n",
    "from sklearn.metrics import f1_score, confusion_matrix, classification_report\n",
    "\n",
    "# метрика задачи\n",
    "def score(y_true, y_val):\n",
    "    return f1_score(y_true, y_val, average='weighted')\n",
    "\n",
    "# датафрейм, содержащий категорию n\n",
    "def samples(df, n):\n",
    "    return df[df.category_id == n]"
   ]
  },
  {
   "cell_type": "markdown",
   "id": "bored-trouble",
   "metadata": {},
   "source": [
    "## Reading data"
   ]
  },
  {
   "cell_type": "markdown",
   "id": "korean-sleeve",
   "metadata": {},
   "source": [
    "Прочитаем данные и сохраним размеченную и неразмеченную части в разных файлах"
   ]
  },
  {
   "cell_type": "code",
   "execution_count": 4,
   "id": "changed-cowboy",
   "metadata": {},
   "outputs": [
    {
     "name": "stderr",
     "output_type": "stream",
     "text": [
      "2021-03-22 13:51:19,430 : WARNING : To save RAM restart Notebook and then skip this cell\n"
     ]
    }
   ],
   "source": [
    "def read_save(read_path):\n",
    "    df = pd.read_parquet(read_path)[['item_name', 'category_id']]\n",
    "    df = df.drop_duplicates('item_name')\n",
    "    os.makedirs('data', exist_ok=True)\n",
    "    df[df.category_id == -1]['item_name'].to_csv('data/backup.csv', index=False)\n",
    "    df[df.category_id != -1].to_csv('data/backup_label.csv', index=False)\n",
    "    logging.warning('To save RAM restart Notebook and then skip this cell')\n",
    "\n",
    "df = read_save(data_train_path)"
   ]
  },
  {
   "cell_type": "markdown",
   "id": "selected-devil",
   "metadata": {},
   "source": [
    "Теперь посмотрим на данные"
   ]
  },
  {
   "cell_type": "code",
   "execution_count": 5,
   "id": "breathing-banner",
   "metadata": {},
   "outputs": [],
   "source": [
    "df = pd.read_csv('data/backup_label.csv')\n",
    "df_full = pd.read_csv('data/backup.csv')\n",
    "\n",
    "for spam_df in [df, df_full]:\n",
    "    spam_df.dropna(inplace=True)"
   ]
  },
  {
   "cell_type": "code",
   "execution_count": 6,
   "id": "useful-shower",
   "metadata": {},
   "outputs": [
    {
     "data": {
      "text/html": [
       "<div>\n",
       "<style scoped>\n",
       "    .dataframe tbody tr th:only-of-type {\n",
       "        vertical-align: middle;\n",
       "    }\n",
       "\n",
       "    .dataframe tbody tr th {\n",
       "        vertical-align: top;\n",
       "    }\n",
       "\n",
       "    .dataframe thead th {\n",
       "        text-align: right;\n",
       "    }\n",
       "</style>\n",
       "<table border=\"1\" class=\"dataframe\">\n",
       "  <thead>\n",
       "    <tr style=\"text-align: right;\">\n",
       "      <th></th>\n",
       "      <th>item_name</th>\n",
       "    </tr>\n",
       "  </thead>\n",
       "  <tbody>\n",
       "    <tr>\n",
       "      <th>2437976</th>\n",
       "      <td>Сапоги школьные д/д Flois-Kids (Размер: 34)</td>\n",
       "    </tr>\n",
       "    <tr>\n",
       "      <th>882416</th>\n",
       "      <td>Шок.Озера Т/У 100г Молочный /малин шт</td>\n",
       "    </tr>\n",
       "    <tr>\n",
       "      <th>2297689</th>\n",
       "      <td>Кальмар в масле Щупальца</td>\n",
       "    </tr>\n",
       "    <tr>\n",
       "      <th>1742849</th>\n",
       "      <td>pellesana масло косметическое 100мл</td>\n",
       "    </tr>\n",
       "    <tr>\n",
       "      <th>780364</th>\n",
       "      <td>Обезжириватель Полихим 0,5л шт</td>\n",
       "    </tr>\n",
       "    <tr>\n",
       "      <th>1745151</th>\n",
       "      <td>1 864 055 Обувь весна-лето-осень ABRICOT</td>\n",
       "    </tr>\n",
       "    <tr>\n",
       "      <th>1905276</th>\n",
       "      <td>Огурцы Луховицкие Россия     2.456кг*97.00</td>\n",
       "    </tr>\n",
       "    <tr>\n",
       "      <th>1159080</th>\n",
       "      <td>Штуцер для шланга VALTEC 3/4 внутр. *20 мм</td>\n",
       "    </tr>\n",
       "    <tr>\n",
       "      <th>1733705</th>\n",
       "      <td>Лизун № \"Роза\"</td>\n",
       "    </tr>\n",
       "    <tr>\n",
       "      <th>583559</th>\n",
       "      <td>БЗМЖ Молоко пастеризов 3.7% 1400мл ПЭТ Домик в...</td>\n",
       "    </tr>\n",
       "  </tbody>\n",
       "</table>\n",
       "</div>"
      ],
      "text/plain": [
       "                                                 item_name\n",
       "2437976        Сапоги школьные д/д Flois-Kids (Размер: 34)\n",
       "882416               Шок.Озера Т/У 100г Молочный /малин шт\n",
       "2297689                           Кальмар в масле Щупальца\n",
       "1742849                pellesana масло косметическое 100мл\n",
       "780364                      Обезжириватель Полихим 0,5л шт\n",
       "1745151           1 864 055 Обувь весна-лето-осень ABRICOT\n",
       "1905276         Огурцы Луховицкие Россия     2.456кг*97.00\n",
       "1159080         Штуцер для шланга VALTEC 3/4 внутр. *20 мм\n",
       "1733705                                     Лизун № \"Роза\"\n",
       "583559   БЗМЖ Молоко пастеризов 3.7% 1400мл ПЭТ Домик в..."
      ]
     },
     "execution_count": 6,
     "metadata": {},
     "output_type": "execute_result"
    }
   ],
   "source": [
    "df_full.sample(10)"
   ]
  },
  {
   "cell_type": "markdown",
   "id": "hairy-bidder",
   "metadata": {},
   "source": [
    "Посмотрим распределение классов"
   ]
  },
  {
   "cell_type": "code",
   "execution_count": 7,
   "id": "attached-trainer",
   "metadata": {},
   "outputs": [
    {
     "data": {
      "text/plain": [
       "84     7070\n",
       "71     4760\n",
       "78     2866\n",
       "83     2856\n",
       "0      2352\n",
       "       ... \n",
       "102      19\n",
       "101      16\n",
       "46       15\n",
       "100      14\n",
       "97       13\n",
       "Name: category_id, Length: 96, dtype: int64"
      ]
     },
     "execution_count": 7,
     "metadata": {},
     "output_type": "execute_result"
    }
   ],
   "source": [
    "df.category_id.value_counts()"
   ]
  },
  {
   "cell_type": "code",
   "execution_count": 8,
   "id": "innocent-celebration",
   "metadata": {},
   "outputs": [
    {
     "data": {
      "image/png": "[encoded data removed]",
      "text/plain": [
       "<Figure size 1440x288 with 1 Axes>"
      ]
     },
     "metadata": {
      "needs_background": "light"
     },
     "output_type": "display_data"
    }
   ],
   "source": [
    "df.category_id.value_counts().plot.bar(figsize=(20, 4))\n",
    "plt.title('Распределение по классам');"
   ]
  },
  {
   "cell_type": "markdown",
   "id": "continuous-origin",
   "metadata": {},
   "source": [
    "Посмотрим самые частые категории"
   ]
  },
  {
   "cell_type": "code",
   "execution_count": 9,
   "id": "southern-preference",
   "metadata": {},
   "outputs": [
    {
     "data": {
      "text/html": [
       "<div>\n",
       "<style scoped>\n",
       "    .dataframe tbody tr th:only-of-type {\n",
       "        vertical-align: middle;\n",
       "    }\n",
       "\n",
       "    .dataframe tbody tr th {\n",
       "        vertical-align: top;\n",
       "    }\n",
       "\n",
       "    .dataframe thead th {\n",
       "        text-align: right;\n",
       "    }\n",
       "</style>\n",
       "<table border=\"1\" class=\"dataframe\">\n",
       "  <thead>\n",
       "    <tr style=\"text-align: right;\">\n",
       "      <th></th>\n",
       "      <th>item_name</th>\n",
       "      <th>category_id</th>\n",
       "    </tr>\n",
       "  </thead>\n",
       "  <tbody>\n",
       "    <tr>\n",
       "      <th>4</th>\n",
       "      <td>Хлеб на СЫВОРОТКЕ 350г</td>\n",
       "      <td>84</td>\n",
       "    </tr>\n",
       "    <tr>\n",
       "      <th>5</th>\n",
       "      <td>Сосиска в тесте с сыром 1шт ГЕ</td>\n",
       "      <td>84</td>\n",
       "    </tr>\n",
       "    <tr>\n",
       "      <th>13</th>\n",
       "      <td>Курник 1 шт.</td>\n",
       "      <td>84</td>\n",
       "    </tr>\n",
       "    <tr>\n",
       "      <th>19</th>\n",
       "      <td>Вафли с топленым молоком вес. 1кг Тортугалия</td>\n",
       "      <td>84</td>\n",
       "    </tr>\n",
       "    <tr>\n",
       "      <th>28</th>\n",
       "      <td>Кф.Золотой Степ 50г с орехом</td>\n",
       "      <td>84</td>\n",
       "    </tr>\n",
       "  </tbody>\n",
       "</table>\n",
       "</div>"
      ],
      "text/plain": [
       "                                       item_name  category_id\n",
       "4                         Хлеб на СЫВОРОТКЕ 350г           84\n",
       "5                 Сосиска в тесте с сыром 1шт ГЕ           84\n",
       "13                                  Курник 1 шт.           84\n",
       "19  Вафли с топленым молоком вес. 1кг Тортугалия           84\n",
       "28                  Кф.Золотой Степ 50г с орехом           84"
      ]
     },
     "execution_count": 9,
     "metadata": {},
     "output_type": "execute_result"
    }
   ],
   "source": [
    "samples(df, 84).head()"
   ]
  },
  {
   "cell_type": "code",
   "execution_count": 10,
   "id": "worst-geography",
   "metadata": {},
   "outputs": [
    {
     "data": {
      "text/html": [
       "<div>\n",
       "<style scoped>\n",
       "    .dataframe tbody tr th:only-of-type {\n",
       "        vertical-align: middle;\n",
       "    }\n",
       "\n",
       "    .dataframe tbody tr th {\n",
       "        vertical-align: top;\n",
       "    }\n",
       "\n",
       "    .dataframe thead th {\n",
       "        text-align: right;\n",
       "    }\n",
       "</style>\n",
       "<table border=\"1\" class=\"dataframe\">\n",
       "  <thead>\n",
       "    <tr style=\"text-align: right;\">\n",
       "      <th></th>\n",
       "      <th>item_name</th>\n",
       "      <th>category_id</th>\n",
       "    </tr>\n",
       "  </thead>\n",
       "  <tbody>\n",
       "    <tr>\n",
       "      <th>1</th>\n",
       "      <td>Компот из изюма, 114 ккал</td>\n",
       "      <td>71</td>\n",
       "    </tr>\n",
       "    <tr>\n",
       "      <th>2</th>\n",
       "      <td>Макаронные изделия отварные (масло сливочное),...</td>\n",
       "      <td>71</td>\n",
       "    </tr>\n",
       "    <tr>\n",
       "      <th>15</th>\n",
       "      <td>Филе бедра куриного жареное 3</td>\n",
       "      <td>71</td>\n",
       "    </tr>\n",
       "    <tr>\n",
       "      <th>30</th>\n",
       "      <td>МОРС 200  мл</td>\n",
       "      <td>71</td>\n",
       "    </tr>\n",
       "    <tr>\n",
       "      <th>41</th>\n",
       "      <td>Kотлета Kуриная Домашняя 100 г</td>\n",
       "      <td>71</td>\n",
       "    </tr>\n",
       "  </tbody>\n",
       "</table>\n",
       "</div>"
      ],
      "text/plain": [
       "                                            item_name  category_id\n",
       "1                           Компот из изюма, 114 ккал           71\n",
       "2   Макаронные изделия отварные (масло сливочное),...           71\n",
       "15                      Филе бедра куриного жареное 3           71\n",
       "30                                       МОРС 200  мл           71\n",
       "41                     Kотлета Kуриная Домашняя 100 г           71"
      ]
     },
     "execution_count": 10,
     "metadata": {},
     "output_type": "execute_result"
    }
   ],
   "source": [
    "samples(df, 71).head()"
   ]
  },
  {
   "cell_type": "markdown",
   "id": "sunset-condition",
   "metadata": {},
   "source": [
    "## Preprocessing"
   ]
  },
  {
   "cell_type": "markdown",
   "id": "confirmed-oregon",
   "metadata": {},
   "source": [
    "Препроцессинг включает следующие шаги:\n",
    "* CamelCase сплиттинг: \"СокДобрый\" -> \"Сок Добрый\"\n",
    "* Нижний регистр\n",
    "* Транслитерация: \"lmnoё\" -> \"лмное\"\n",
    "* 50x30x45 -> DxDxD\n",
    "* [\"№\", \"%\"] -> ['NUM', 'PERC']\n",
    "* Замены величин: [\"1.5\", \"1,3 кг\" 3,5г -> [\"1p5\", \"1p3кг\" \"3p5г\"]\n",
    "* сокращения со слешами заменяются: [\"ж/б\", \"тп/р]->[\"жб\", тпр\"]\n",
    "* Не буквы и цифры заменяются на пробелы\n",
    "* Склейка одиночных символов: \"а б в\" -> \"абв\""
   ]
  },
  {
   "cell_type": "code",
   "execution_count": 11,
   "id": "gross-deposit",
   "metadata": {},
   "outputs": [],
   "source": [
    "# функция для создания словаря транслитераций\n",
    "def make_trans():\n",
    "    a = 'a b c d e f g h i j k l m n o p q r s t u v w x y z ё'.split()\n",
    "    b = 'а в с д е ф г н и ж к л м н о р к р с т у в в х у з е'.split()\n",
    "    trans_dict = dict(zip(a, b))\n",
    "    trans_table = ''.join(a).maketrans(trans_dict)\n",
    "    return trans_table\n",
    "\n",
    "def normalize(ser: pd.Series):\n",
    "#   \"СокДобрый\" -> \"Сок Добрый\"\n",
    "    camel_case_pat = re.compile(r'([а-яa-z])([А-ЯA-Z])')\n",
    "#   \"lmno\" -> \"лмно\"\n",
    "    trans_table = make_trans()\n",
    "#   \"14х15х30\" -> \"DxDxD\"\n",
    "    dxdxd_pat = re.compile(r'((?:\\d+\\s*[х\\*]\\s*){2}\\d+)')\n",
    "#   \"1.2 15,5\" -> \"1p2 15p5\"  \n",
    "    digit_pat = re.compile(r'(\\d+)[\\.,](\\d+)')\n",
    "#   \"15 мл\" -> \"15мл\"\n",
    "    unit = 'мг|г|гр|кг|мл|л|шт'\n",
    "    unit_pat = re.compile(fr'((?:\\d+p)?\\d+)\\s*({unit})\\b')\n",
    "#   \"ж/б ст/б\" -> \"жб стб\"\n",
    "    w_w_pat = re.compile(r'\\b([а-я]{1,2})/([а-я]{1,2})\\b')\n",
    "#   \"a b c d\" -> \"abcd\"\n",
    "    glue_pat = re.compile(r'(?<=(?<!\\w)\\w) (?=\\w(?!\\w))', re.UNICODE)\n",
    "    \n",
    "    return ser \\\n",
    "            .str.replace(camel_case_pat, r'\\1 \\2') \\\n",
    "            .str.lower() \\\n",
    "            .str.replace(r'ъ\\b', '') \\\n",
    "            .str.translate(trans_table) \\\n",
    "            .str.replace(dxdxd_pat, ' DxDxD ') \\\n",
    "            .str.replace('№', ' NUM ') \\\n",
    "            .str.replace('%', ' PERC ') \\\n",
    "            .str.replace(digit_pat, r' \\1p\\2 ') \\\n",
    "            .str.replace(unit_pat, r' \\1\\2 ') \\\n",
    "            .str.replace(w_w_pat, r' \\1\\2 ') \\\n",
    "            .str.replace(r'[\\W_]', ' ') \\\n",
    "            .str.replace(glue_pat, '')"
   ]
  },
  {
   "cell_type": "code",
   "execution_count": 12,
   "id": "nuclear-solid",
   "metadata": {},
   "outputs": [],
   "source": [
    "for spam_df in [df, df_full]:\n",
    "    spam_df['item_name'] = normalize(spam_df['item_name'])"
   ]
  },
  {
   "cell_type": "markdown",
   "id": "radio-annotation",
   "metadata": {},
   "source": [
    "Посмотрим на результат"
   ]
  },
  {
   "cell_type": "code",
   "execution_count": 14,
   "id": "involved-hearts",
   "metadata": {},
   "outputs": [
    {
     "data": {
      "text/html": [
       "<div>\n",
       "<style scoped>\n",
       "    .dataframe tbody tr th:only-of-type {\n",
       "        vertical-align: middle;\n",
       "    }\n",
       "\n",
       "    .dataframe tbody tr th {\n",
       "        vertical-align: top;\n",
       "    }\n",
       "\n",
       "    .dataframe thead th {\n",
       "        text-align: right;\n",
       "    }\n",
       "</style>\n",
       "<table border=\"1\" class=\"dataframe\">\n",
       "  <thead>\n",
       "    <tr style=\"text-align: right;\">\n",
       "      <th></th>\n",
       "      <th>item_name</th>\n",
       "    </tr>\n",
       "  </thead>\n",
       "  <tbody>\n",
       "    <tr>\n",
       "      <th>2408405</th>\n",
       "      <td>мор эскимо мм  63г</td>\n",
       "    </tr>\n",
       "    <tr>\n",
       "      <th>461664</th>\n",
       "      <td>эфес пилснер  0p3</td>\n",
       "    </tr>\n",
       "    <tr>\n",
       "      <th>2316442</th>\n",
       "      <td>хек тушка  1кг</td>\n",
       "    </tr>\n",
       "    <tr>\n",
       "      <th>344862</th>\n",
       "      <td>капучино бл</td>\n",
       "    </tr>\n",
       "    <tr>\n",
       "      <th>1178767</th>\n",
       "      <td>килька черноморская неразделанная в том  соусе...</td>\n",
       "    </tr>\n",
       "    <tr>\n",
       "      <th>2832448</th>\n",
       "      <td>ментос  лимонад   1шт</td>\n",
       "    </tr>\n",
       "    <tr>\n",
       "      <th>2710457</th>\n",
       "      <td>саморез универс  4p5 х20 оцинк</td>\n",
       "    </tr>\n",
       "    <tr>\n",
       "      <th>51850</th>\n",
       "      <td>фромилид уно таб  пролонг  дя  по  плен   500м...</td>\n",
       "    </tr>\n",
       "    <tr>\n",
       "      <th>513585</th>\n",
       "      <td>пивной нап амстердам навигатор  6p8  PERC    0...</td>\n",
       "    </tr>\n",
       "    <tr>\n",
       "      <th>2446381</th>\n",
       "      <td>семена укроп мамонт   2г</td>\n",
       "    </tr>\n",
       "  </tbody>\n",
       "</table>\n",
       "</div>"
      ],
      "text/plain": [
       "                                                 item_name\n",
       "2408405                                мор эскимо мм  63г \n",
       "461664                                  эфес пилснер  0p3 \n",
       "2316442                                    хек тушка  1кг \n",
       "344862                                         капучино бл\n",
       "1178767  килька черноморская неразделанная в том  соусе...\n",
       "2832448                             ментос  лимонад   1шт \n",
       "2710457                    саморез универс  4p5 х20 оцинк \n",
       "51850    фромилид уно таб  пролонг  дя  по  плен   500м...\n",
       "513585   пивной нап амстердам навигатор  6p8  PERC    0...\n",
       "2446381                         семена укроп мамонт   2г  "
      ]
     },
     "execution_count": 14,
     "metadata": {},
     "output_type": "execute_result"
    }
   ],
   "source": [
    "df_full.sample(10)"
   ]
  },
  {
   "cell_type": "markdown",
   "id": "electric-logan",
   "metadata": {},
   "source": [
    "## Fasttext"
   ]
  },
  {
   "cell_type": "markdown",
   "id": "banner-webcam",
   "metadata": {},
   "source": [
    "### Fitting"
   ]
  },
  {
   "cell_type": "markdown",
   "id": "compact-price",
   "metadata": {},
   "source": [
    "Для извлечения фичей воспользуемся FastText. Изначально на его месте был Word2Vec, но позже благодаря [@dremovd](https://github.com/dremovd) осознал, что FastText справится здесь лучше. \n",
    "\n",
    "Обучать будем на всех неразмеченных данных, чтобы не было лишних утечек. Для начала сделаем сплиттинг строки на список слов, избавившися от однобуквенных слов"
   ]
  },
  {
   "cell_type": "code",
   "execution_count": 15,
   "id": "level-activity",
   "metadata": {},
   "outputs": [],
   "source": [
    "df_full.item_name = df_full.item_name.apply(lambda x: [i for i in x.split() if len(i) > 1])"
   ]
  },
  {
   "cell_type": "markdown",
   "id": "technical-highway",
   "metadata": {},
   "source": [
    "Метод построения векторов (sg), размер вектора (size) и минимальное количество слов в словаре (min_count) были подобраны эмпирическим путём. Стоит отметить, что sg=1 или Skip-Grams mode, когда fasttext (а изначально word2vec) пытается предсказать по слову остальной контент, работает значительно лучше, чем sg=0 или CBOW mode. В качестве аргумента window я поставил максимальную длину списка в корпусе. Для демонстрации я поставил количество эпох (iter) равным 10, хотя оптимальным является 30. Такой bucket выставил для экономии памяти на жёстком диске (и чтобы вместился в сабмит)). Последний параметр workers - это допустимое количество потоков, у меня это число 12. Из-за него кстати нет смысла выставлять seed, так как всё сбивается и воспроизвести решение можно только с workers=1 и seed=КАКОЕ-ТО_ЧИСЛО (конкретно в этой реализации от gensim)."
   ]
  },
  {
   "cell_type": "code",
   "execution_count": null,
   "id": "bibliographic-candidate",
   "metadata": {
    "scrolled": true,
    "tags": []
   },
   "outputs": [],
   "source": [
    "model = FastText(df_full.item_name, size=200, window=35, min_count=3, workers=12, iter=10, sg=1, bucket=400_000)"
   ]
  },
  {
   "cell_type": "markdown",
   "id": "cosmetic-catering",
   "metadata": {},
   "source": [
    "Сохраним модель"
   ]
  },
  {
   "cell_type": "code",
   "execution_count": 18,
   "id": "standing-northwest",
   "metadata": {},
   "outputs": [
    {
     "name": "stderr",
     "output_type": "stream",
     "text": [
      "2021-03-22 14:05:18,005 : INFO : saving FastText object under ft.model, separately None\n",
      "2021-03-22 14:05:18,006 : INFO : storing np array 'vectors' to ft.model.wv.vectors.npy\n",
      "2021-03-22 14:05:18,826 : INFO : storing np array 'vectors_vocab' to ft.model.wv.vectors_vocab.npy\n",
      "2021-03-22 14:05:19,498 : INFO : storing np array 'vectors_ngrams' to ft.model.wv.vectors_ngrams.npy\n",
      "2021-03-22 14:05:21,723 : INFO : not storing attribute vectors_norm\n",
      "2021-03-22 14:05:21,724 : INFO : not storing attribute vectors_vocab_norm\n",
      "2021-03-22 14:05:21,724 : INFO : not storing attribute vectors_ngrams_norm\n",
      "2021-03-22 14:05:21,725 : INFO : not storing attribute buckets_word\n",
      "2021-03-22 14:05:21,726 : INFO : storing np array 'syn1neg' to ft.model.trainables.syn1neg.npy\n",
      "2021-03-22 14:05:22,500 : INFO : storing np array 'vectors_vocab_lockf' to ft.model.trainables.vectors_vocab_lockf.npy\n",
      "2021-03-22 14:05:23,187 : INFO : storing np array 'vectors_ngrams_lockf' to ft.model.trainables.vectors_ngrams_lockf.npy\n",
      "2021-03-22 14:05:25,274 : INFO : saved ft.model\n"
     ]
    }
   ],
   "source": [
    "model.save('ft.model')"
   ]
  },
  {
   "cell_type": "markdown",
   "id": "auburn-service",
   "metadata": {},
   "source": [
    "### Model optimization"
   ]
  },
  {
   "cell_type": "markdown",
   "id": "bored-publication",
   "metadata": {},
   "source": [
    "Больше всего в fasttext отнимается памяти из-за ngram, на данный момент модель занимает 1Гб (!) на жёстком диске. С этим надо было как-то бороться и первое что пришло в голову: заменить float32, в котором хранятся вектора на float16. Это сожмёт нашу модель как минимум в 2 раза. Можете убедиться: это не повлияет на качество классификатора"
   ]
  },
  {
   "cell_type": "markdown",
   "id": "selective-child",
   "metadata": {},
   "source": [
    "Посмотрим на файлы, относящиеся к FastText"
   ]
  },
  {
   "cell_type": "code",
   "execution_count": 19,
   "id": "taken-devil",
   "metadata": {},
   "outputs": [
    {
     "data": {
      "text/plain": [
       "['ft.model.trainables.syn1neg.npy',\n",
       " 'ft.model.trainables.vectors_ngrams_lockf.npy',\n",
       " 'ft.model.trainables.vectors_vocab_lockf.npy',\n",
       " 'ft.model.wv.vectors.npy',\n",
       " 'ft.model.wv.vectors_ngrams.npy',\n",
       " 'ft.model.wv.vectors_vocab.npy']"
      ]
     },
     "execution_count": 19,
     "metadata": {},
     "output_type": "execute_result"
    }
   ],
   "source": [
    "list(map(str,Path('.').glob('*.npy')))"
   ]
  },
  {
   "cell_type": "code",
   "execution_count": 20,
   "id": "configured-preview",
   "metadata": {},
   "outputs": [
    {
     "name": "stderr",
     "output_type": "stream",
     "text": [
      "2021-03-22 14:05:26,489 : INFO : ft.model.trainables.syn1neg.npy\n",
      "2021-03-22 14:05:26,565 : INFO : min/max values before: (-2.090169, 2.0418446)\n",
      "2021-03-22 14:05:27,033 : INFO : min/max values after: (-2.09, 2.041)\n",
      "2021-03-22 14:05:27,322 : INFO : __________________________________\n",
      "2021-03-22 14:05:27,323 : INFO : ft.model.trainables.vectors_ngrams_lockf.npy\n",
      "2021-03-22 14:05:27,500 : INFO : min/max values before: (1.0, 1.0)\n",
      "2021-03-22 14:05:28,249 : INFO : min/max values after: (1.0, 1.0)\n",
      "2021-03-22 14:05:29,133 : INFO : __________________________________\n",
      "2021-03-22 14:05:29,134 : INFO : ft.model.trainables.vectors_vocab_lockf.npy\n",
      "2021-03-22 14:05:29,220 : INFO : min/max values before: (1.0, 1.0)\n",
      "2021-03-22 14:05:29,518 : INFO : min/max values after: (1.0, 1.0)\n",
      "2021-03-22 14:05:29,820 : INFO : __________________________________\n",
      "2021-03-22 14:05:29,820 : INFO : ft.model.wv.vectors.npy\n",
      "2021-03-22 14:05:29,899 : INFO : min/max values before: (-2.720382, 2.59036)\n",
      "2021-03-22 14:05:30,374 : INFO : min/max values after: (-2.72, 2.59)\n",
      "2021-03-22 14:05:30,679 : INFO : __________________________________\n",
      "2021-03-22 14:05:30,680 : INFO : ft.model.wv.vectors_ngrams.npy\n",
      "2021-03-22 14:05:30,860 : INFO : min/max values before: (-9.1180725, 10.212996)\n",
      "2021-03-22 14:05:32,053 : INFO : min/max values after: (-9.12, 10.21)\n",
      "2021-03-22 14:05:33,198 : INFO : __________________________________\n",
      "2021-03-22 14:05:33,199 : INFO : ft.model.wv.vectors_vocab.npy\n",
      "2021-03-22 14:05:33,285 : INFO : min/max values before: (-11.192483, 12.355845)\n",
      "2021-03-22 14:05:33,753 : INFO : min/max values after: (-11.195, 12.36)\n",
      "2021-03-22 14:05:34,062 : INFO : __________________________________\n"
     ]
    }
   ],
   "source": [
    "for file in map(str,Path('.').glob('*.npy')):\n",
    "    logging.info(file)\n",
    "    spam = np.load(file)\n",
    "    logging.info(f'min/max values before: {spam.min(), spam.max()}')\n",
    "    spam = spam.astype('float16')\n",
    "    logging.info(f'min/max values after: {spam.min(), spam.max()}')\n",
    "    with open(file, 'wb') as f:\n",
    "        np.save(f, spam)\n",
    "    logging.info('__________________________________')"
   ]
  },
  {
   "cell_type": "markdown",
   "id": "alone-division",
   "metadata": {},
   "source": [
    "После этих манипуляций файлы занимают 500Мб. Но этого всё-равно недостаточно: надо будет как-то уместить классификатор\n",
    "\n",
    "Видим, что у нас есть файлы целиком состоящие из единичек (минимальное и максимальное значения - это единицы). Взглянем на них разок"
   ]
  },
  {
   "cell_type": "code",
   "execution_count": 21,
   "id": "noticed-extra",
   "metadata": {},
   "outputs": [],
   "source": [
    "spam = np.load('ft.model.trainables.vectors_ngrams_lockf.npy')"
   ]
  },
  {
   "cell_type": "code",
   "execution_count": 22,
   "id": "configured-trail",
   "metadata": {},
   "outputs": [
    {
     "data": {
      "text/plain": [
       "array([[1., 1., 1., ..., 1., 1., 1.],\n",
       "       [1., 1., 1., ..., 1., 1., 1.],\n",
       "       [1., 1., 1., ..., 1., 1., 1.],\n",
       "       ...,\n",
       "       [1., 1., 1., ..., 1., 1., 1.],\n",
       "       [1., 1., 1., ..., 1., 1., 1.],\n",
       "       [1., 1., 1., ..., 1., 1., 1.]], dtype=float16)"
      ]
     },
     "execution_count": 22,
     "metadata": {},
     "output_type": "execute_result"
    }
   ],
   "source": [
    "spam"
   ]
  },
  {
   "cell_type": "code",
   "execution_count": 23,
   "id": "automated-salem",
   "metadata": {},
   "outputs": [
    {
     "data": {
      "text/plain": [
       "(400000, 200)"
      ]
     },
     "execution_count": 23,
     "metadata": {},
     "output_type": "execute_result"
    }
   ],
   "source": [
    "spam.shape"
   ]
  },
  {
   "cell_type": "markdown",
   "id": "planned-sodium",
   "metadata": {},
   "source": [
    "Ого, вы видели, сколько эта вещь занимает в памяти?! К счастью, архиваторы умеют грамотно сжимать такие файлы из повторяющихся элементов, так что можем быть уверены, что в итоге у нас останется память для классификатора"
   ]
  },
  {
   "cell_type": "markdown",
   "id": "stretch-verse",
   "metadata": {},
   "source": [
    "### Vector averaging"
   ]
  },
  {
   "cell_type": "markdown",
   "id": "aging-advancement",
   "metadata": {},
   "source": [
    "Извлечём фичи. Для этого получим вектора каждого слова из предложения, сложим их и отнормируем его, чтобы его размер был равен 1. "
   ]
  },
  {
   "cell_type": "code",
   "execution_count": 24,
   "id": "persistent-extreme",
   "metadata": {},
   "outputs": [
    {
     "name": "stderr",
     "output_type": "stream",
     "text": [
      "2021-03-22 14:05:41,479 : INFO : loading FastText object from ft.model\n",
      "2021-03-22 14:05:41,690 : INFO : loading wv recursively from ft.model.wv.* with mmap=None\n",
      "2021-03-22 14:05:41,691 : INFO : loading vectors from ft.model.wv.vectors.npy with mmap=None\n",
      "2021-03-22 14:05:41,724 : INFO : loading vectors_vocab from ft.model.wv.vectors_vocab.npy with mmap=None\n",
      "2021-03-22 14:05:41,760 : INFO : loading vectors_ngrams from ft.model.wv.vectors_ngrams.npy with mmap=None\n",
      "2021-03-22 14:05:41,857 : INFO : setting ignored attribute vectors_norm to None\n",
      "2021-03-22 14:05:41,857 : INFO : setting ignored attribute vectors_vocab_norm to None\n",
      "2021-03-22 14:05:41,858 : INFO : setting ignored attribute vectors_ngrams_norm to None\n",
      "2021-03-22 14:05:41,859 : INFO : setting ignored attribute buckets_word to None\n",
      "2021-03-22 14:05:41,859 : INFO : loading vocabulary recursively from ft.model.vocabulary.* with mmap=None\n",
      "2021-03-22 14:05:41,860 : INFO : loading trainables recursively from ft.model.trainables.* with mmap=None\n",
      "2021-03-22 14:05:41,861 : INFO : loading syn1neg from ft.model.trainables.syn1neg.npy with mmap=None\n",
      "2021-03-22 14:05:41,895 : INFO : loading vectors_vocab_lockf from ft.model.trainables.vectors_vocab_lockf.npy with mmap=None\n",
      "2021-03-22 14:05:41,929 : INFO : loading vectors_ngrams_lockf from ft.model.trainables.vectors_ngrams_lockf.npy with mmap=None\n",
      "2021-03-22 14:05:41,997 : INFO : loaded ft.model\n"
     ]
    }
   ],
   "source": [
    "model = FastText.load('ft.model')"
   ]
  },
  {
   "cell_type": "code",
   "execution_count": 25,
   "id": "animal-there",
   "metadata": {},
   "outputs": [],
   "source": [
    "def word_averaging(wv, words):\n",
    "    mean = np.zeros((wv.vector_size,))\n",
    "    \n",
    "    for word in words:\n",
    "        mean += wv.get_vector(word)\n",
    "\n",
    "    mean = gensim.matutils.unitvec(mean)\n",
    "    return mean\n",
    "\n",
    "def word_averaging_list(wv, text_list):\n",
    "    return np.vstack([word_averaging(wv, review) for review in text_list])"
   ]
  },
  {
   "cell_type": "markdown",
   "id": "homeless-variety",
   "metadata": {},
   "source": [
    "Также для ускорения алгоритмов классификации приведём полученную матрицу к типу float16"
   ]
  },
  {
   "cell_type": "code",
   "execution_count": 31,
   "id": "close-allah",
   "metadata": {},
   "outputs": [],
   "source": [
    "df.item_name = df.item_name.apply(lambda x: [i for i in x.split() if len(i) > 1])\n",
    "X_wv = word_averaging_list(model.wv, df.item_name)\n",
    "X_wv = X_wv.astype('float16')\n",
    "\n",
    "y = df.category_id"
   ]
  },
  {
   "cell_type": "markdown",
   "id": "generic-quantum",
   "metadata": {},
   "source": [
    "Огромный плюс fasttext'а в том, что он может векторизовать слова, даже которых нет в словаре, благодаря ngram'ам"
   ]
  },
  {
   "cell_type": "markdown",
   "id": "comparative-mongolia",
   "metadata": {},
   "source": [
    "## Classification"
   ]
  },
  {
   "cell_type": "markdown",
   "id": "following-pressing",
   "metadata": {},
   "source": [
    "Наконец-то перейдём к классификации. Будем использовать модель SVM для классификации. Она показала здесь лучшее качество. Также не забудем отнормировать данные перед подачей в классификатор: сделаем пайплайн"
   ]
  },
  {
   "cell_type": "code",
   "execution_count": 32,
   "id": "adjustable-antarctica",
   "metadata": {},
   "outputs": [],
   "source": [
    "pipe = make_pipeline(\n",
    "    StandardScaler(),\n",
    "    SVC(random_state=0),\n",
    ")"
   ]
  },
  {
   "cell_type": "code",
   "execution_count": 33,
   "id": "worthy-compiler",
   "metadata": {},
   "outputs": [
    {
     "name": "stdout",
     "output_type": "stream",
     "text": [
      "Wall time: 5min 56s\n"
     ]
    },
    {
     "data": {
      "text/plain": [
       "array([0.86135208, 0.85232645, 0.85836571, 0.85216471, 0.86253755])"
      ]
     },
     "execution_count": 33,
     "metadata": {},
     "output_type": "execute_result"
    }
   ],
   "source": [
    "%%time\n",
    "cross_val_score(pipe, \n",
    "                X_wv, \n",
    "                y, \n",
    "                scoring='f1_weighted',\n",
    "                cv=StratifiedKFold(5, \n",
    "                                   shuffle=True, \n",
    "                                   random_state=0), \n",
    "                n_jobs=5\n",
    ")"
   ]
  },
  {
   "cell_type": "markdown",
   "id": "sunrise-electricity",
   "metadata": {},
   "source": [
    "Итак, получили неплохое качество на крос-валидации. Обучим на всех данных и сохраним модель"
   ]
  },
  {
   "cell_type": "code",
   "execution_count": null,
   "id": "occupied-manor",
   "metadata": {},
   "outputs": [],
   "source": [
    "pipe.fit(X_wv, y)\n",
    "pickle.dump(pipe, open(f'clf_task1', 'wb'))"
   ]
  },
  {
   "cell_type": "markdown",
   "id": "nervous-server",
   "metadata": {},
   "source": [
    "## Conclusion"
   ]
  },
  {
   "cell_type": "markdown",
   "id": "common-collector",
   "metadata": {},
   "source": [
    "На тесте данное решение получило 0.865. Особую благодарность хотелось бы выразить [@dremovd](https://github.com/dremovd), с которым мы были в одной команде. Он направлял меня в нужную сторону, и без него мы бы не вышли в топ-10.\n",
    "\n",
    "Спасибо за ресёрч данного ноутбука, в нём я привёл в краткой форме решение задачи. Ждите более расширенного решения с анализом ошибок, стакингом и постпроцессингом :) \n",
    "\n",
    "До новых встреч!"
   ]
  }
 ],
 "metadata": {
  "kernelspec": {
   "display_name": "Python 3",
   "language": "python",
   "name": "python3"
  },
  "language_info": {
   "codemirror_mode": {
    "name": "ipython",
    "version": 3
   },
   "file_extension": ".py",
   "mimetype": "text/x-python",
   "name": "python",
   "nbconvert_exporter": "python",
   "pygments_lexer": "ipython3",
   "version": "3.9.1"
  }
 },
 "nbformat": 4,
 "nbformat_minor": 5
}
